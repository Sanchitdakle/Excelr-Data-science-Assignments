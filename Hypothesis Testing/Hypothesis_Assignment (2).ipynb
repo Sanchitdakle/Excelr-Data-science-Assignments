{
 "cells": [
  {
   "cell_type": "code",
   "execution_count": 1,
   "id": "77eb684b-653b-41a8-b75a-ecc8b9a46121",
   "metadata": {},
   "outputs": [],
   "source": [
    "# import required library\n",
    "import scipy.stats as st\n",
    "import math"
   ]
  },
  {
   "cell_type": "markdown",
   "id": "527ef7ad-aea6-4751-973b-9629d87adaad",
   "metadata": {},
   "source": [
    "# State the Hypotheses"
   ]
  },
  {
   "cell_type": "code",
   "execution_count": 3,
   "id": "2f4b3039-084a-4f21-8ae8-c75dbbbe81e2",
   "metadata": {},
   "outputs": [],
   "source": [
    "# H0: The mean weekly cost follows the model (W = $1000 + 5X).\n",
    "# H1: The mean weekly cost is higher than the model suggests.\n"
   ]
  },
  {
   "cell_type": "markdown",
   "id": "670bb09a-8a13-4010-85d3-9a7a5dcf6aa2",
   "metadata": {},
   "source": [
    "# Calculate the Test Statistic"
   ]
  },
  {
   "cell_type": "code",
   "execution_count": 5,
   "id": "ec5f9cd7-93f4-414a-b5d8-a215f01d9aaf",
   "metadata": {},
   "outputs": [],
   "source": [
    "# given data\n",
    "sample_mean=3050\n",
    "n=25 # sample size\n",
    "sigma=25 #standard deviation of unit produce\n",
    "x_mean=600 # therotical mean of weekly cost\n"
   ]
  },
  {
   "cell_type": "code",
   "execution_count": 6,
   "id": "952863c2-1638-4683-a7c6-3be68d721aab",
   "metadata": {},
   "outputs": [
    {
     "data": {
      "text/plain": [
       "4000"
      ]
     },
     "execution_count": 6,
     "metadata": {},
     "output_type": "execute_result"
    }
   ],
   "source": [
    "# Theoretical mean weekly cost\n",
    "theoretical_mean=1000+5*x_mean\n",
    "theoretical_mean"
   ]
  },
  {
   "cell_type": "code",
   "execution_count": 7,
   "id": "8e4265f8-d3f5-4601-9121-034b0dcfd423",
   "metadata": {},
   "outputs": [
    {
     "data": {
      "text/plain": [
       "125"
      ]
     },
     "execution_count": 7,
     "metadata": {},
     "output_type": "execute_result"
    }
   ],
   "source": [
    "# population standard devation\n",
    "sigma=5*sigma\n",
    "sigma"
   ]
  },
  {
   "cell_type": "markdown",
   "id": "35a7ec44-7da0-449a-8708-4b7c934196f2",
   "metadata": {},
   "source": [
    "# 2 Calculate the test statistc"
   ]
  },
  {
   "cell_type": "code",
   "execution_count": 9,
   "id": "0e46750c-63e2-4ac1-8260-8b5ec832bb83",
   "metadata": {},
   "outputs": [],
   "source": [
    " # calculate the test statistics\n",
    "# sample_mean=3050\n",
    "# theoretical_mean=400\n",
    "#sigma=25\n",
    "#n=20 \n",
    "t_statistic=(sample_mean-theoretical_mean)/(sigma/math.sqrt(n))"
   ]
  },
  {
   "cell_type": "code",
   "execution_count": 10,
   "id": "5f9e967b-f7b0-4c87-aec7-61fabe6018ac",
   "metadata": {},
   "outputs": [
    {
     "data": {
      "text/plain": [
       "-38.0"
      ]
     },
     "execution_count": 10,
     "metadata": {},
     "output_type": "execute_result"
    }
   ],
   "source": [
    "t_statistic"
   ]
  },
  {
   "cell_type": "markdown",
   "id": "e6e1f2ef-697d-45c0-bd23-ed8ca5d5af09",
   "metadata": {},
   "source": [
    "# 3 Determine the critical value"
   ]
  },
  {
   "cell_type": "code",
   "execution_count": 12,
   "id": "8b62f397-03de-4b3b-8bde-3e1970b5859e",
   "metadata": {},
   "outputs": [],
   "source": [
    "alpha=0.05\n",
    "critical_value=st.norm.ppf(1-alpha)"
   ]
  },
  {
   "cell_type": "code",
   "execution_count": 13,
   "id": "a53569bd-6f98-4338-be6d-c334be4eb08c",
   "metadata": {},
   "outputs": [
    {
     "data": {
      "text/plain": [
       "1.6448536269514722"
      ]
     },
     "execution_count": 13,
     "metadata": {},
     "output_type": "execute_result"
    }
   ],
   "source": [
    "critical_value"
   ]
  },
  {
   "cell_type": "code",
   "execution_count": 14,
   "id": "e1dd6514-ebaf-42d7-b9e5-44806a2e2927",
   "metadata": {},
   "outputs": [
    {
     "name": "stdout",
     "output_type": "stream",
     "text": [
      "Test Statistic (t): -38.0\n",
      "Critical Value (Z_alpha): 1.6448536269514722\n"
     ]
    }
   ],
   "source": [
    "print(f\"Test Statistic (t): {t_statistic}\")\n",
    "print(f\"Critical Value (Z_alpha): {critical_value}\")"
   ]
  },
  {
   "cell_type": "code",
   "execution_count": null,
   "id": "0f698d39-55ba-4a77-98a0-041acc15f3c4",
   "metadata": {},
   "outputs": [],
   "source": []
  },
  {
   "cell_type": "markdown",
   "id": "30e91d46-04a1-4b82-94b2-ae589718dac0",
   "metadata": {},
   "source": [
    "# 4 Decision making based on the critical_value and"
   ]
  },
  {
   "cell_type": "code",
   "execution_count": 16,
   "id": "db921e26-beb2-46a3-b273-fbe243feaf22",
   "metadata": {},
   "outputs": [
    {
     "name": "stdout",
     "output_type": "stream",
     "text": [
      "Fail to reject the null hypothesis (H0): No strong evidence to suggest costs are higher than the model.\n"
     ]
    }
   ],
   "source": [
    "# check the condition\n",
    "if t_statistic > critical_value:\n",
    "    print(\"Reject the null hypothesis (H0): The weekly operating costs are significantly higher than the model.\")\n",
    "else:\n",
    "    print(\"Fail to reject the null hypothesis (H0): No strong evidence to suggest costs are higher than the model.\")"
   ]
  },
  {
   "cell_type": "code",
   "execution_count": null,
   "id": "80e94f3c-dbd7-417c-bdc6-522e527264ae",
   "metadata": {},
   "outputs": [],
   "source": []
  },
  {
   "cell_type": "code",
   "execution_count": null,
   "id": "61447998-f823-4b51-a64f-4d7747e2f3a2",
   "metadata": {},
   "outputs": [],
   "source": []
  }
 ],
 "metadata": {
  "kernelspec": {
   "display_name": "Python 3 (ipykernel)",
   "language": "python",
   "name": "python3"
  },
  "language_info": {
   "codemirror_mode": {
    "name": "ipython",
    "version": 3
   },
   "file_extension": ".py",
   "mimetype": "text/x-python",
   "name": "python",
   "nbconvert_exporter": "python",
   "pygments_lexer": "ipython3",
   "version": "3.12.4"
  }
 },
 "nbformat": 4,
 "nbformat_minor": 5
}
