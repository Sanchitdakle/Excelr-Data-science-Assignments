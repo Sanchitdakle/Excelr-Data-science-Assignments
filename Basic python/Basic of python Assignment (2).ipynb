{
 "cells": [
  {
   "cell_type": "markdown",
   "metadata": {
    "id": "Eok_8iTPw-la"
   },
   "source": [
    "# prime number"
   ]
  },
  {
   "cell_type": "code",
   "execution_count": 25,
   "metadata": {
    "colab": {
     "base_uri": "https://localhost:8080/"
    },
    "executionInfo": {
     "elapsed": 4332,
     "status": "ok",
     "timestamp": 1726506388442,
     "user": {
      "displayName": "Sanchit Dakle",
      "userId": "00374581020972840734"
     },
     "user_tz": -330
    },
    "id": "N2SW-HMbxBNw",
    "outputId": "41e91ad8-6255-4b48-a507-b0c53fc08a75"
   },
   "outputs": [
    {
     "name": "stdout",
     "output_type": "stream",
     "text": [
      "Enter number:6\n",
      "Enter number is not primr number\n"
     ]
    }
   ],
   "source": [
    "num=int(input(\"Enter number:\"))# take input from a user\n",
    "for i in range(2,num):# using for loop\n",
    "  if num%i==0:# usingn if else to check the condition\n",
    "    print(\"Enter number is not primr number\")\n",
    "    break\n",
    "  else:\n",
    "    print(\"Enter number is prime number\")\n",
    "    break\n",
    "\n",
    "\n"
   ]
  },
  {
   "cell_type": "code",
   "execution_count": 29,
   "metadata": {
    "executionInfo": {
     "elapsed": 616,
     "status": "ok",
     "timestamp": 1726506774245,
     "user": {
      "displayName": "Sanchit Dakle",
      "userId": "00374581020972840734"
     },
     "user_tz": -330
    },
    "id": "XG6w_H3hxd94"
   },
   "outputs": [],
   "source": [
    "import random # it is use to print random number in given range\n"
   ]
  },
  {
   "cell_type": "code",
   "execution_count": 46,
   "metadata": {
    "colab": {
     "base_uri": "https://localhost:8080/"
    },
    "executionInfo": {
     "elapsed": 9509,
     "status": "ok",
     "timestamp": 1726507700857,
     "user": {
      "displayName": "Sanchit Dakle",
      "userId": "00374581020972840734"
     },
     "user_tz": -330
    },
    "id": "etswVJ5E0I2U",
    "outputId": "68f9fb16-ea24-468a-ed53-9de8dbc9403a"
   },
   "outputs": [
    {
     "name": "stdout",
     "output_type": "stream",
     "text": [
      "What is correct ans51+53\n",
      "your answer104\n",
      "congrulations your ans is correct\n"
     ]
    }
   ],
   "source": [
    "def addition():# use the def function\n",
    "  num1=random.randint(50,90)# randome number 50 to 90 range\n",
    "  num2=random.randint(50,90)\n",
    "  correct_answer=num1+num2\n",
    "  print(f\"What is correct ans {num1}+{num2}\")\n",
    "  ans=int(input(\"your answer\"))\n",
    "  if ans==correct_answer:\n",
    "    print(\"congrulations your ans is correct\")\n",
    "  else:\n",
    "    print(\"sorry ans is incorrect please try again\")\n",
    "addition()"
   ]
  },
  {
   "cell_type": "code",
   "execution_count": 42,
   "metadata": {
    "executionInfo": {
     "elapsed": 1,
     "status": "ok",
     "timestamp": 1726507391155,
     "user": {
      "displayName": "Sanchit Dakle",
      "userId": "00374581020972840734"
     },
     "user_tz": -330
    },
    "id": "4cCU4tka2AcZ"
   },
   "outputs": [],
   "source": []
  },
  {
   "cell_type": "markdown",
   "metadata": {
    "id": "3CTTuoqnApd2"
   },
   "source": [
    "# Squares of Even/Odd Numbers"
   ]
  },
  {
   "cell_type": "code",
   "execution_count": 59,
   "metadata": {
    "colab": {
     "base_uri": "https://localhost:8080/"
    },
    "executionInfo": {
     "elapsed": 694,
     "status": "ok",
     "timestamp": 1726510992519,
     "user": {
      "displayName": "Sanchit Dakle",
      "userId": "00374581020972840734"
     },
     "user_tz": -330
    },
    "id": "RddPCOTVAr0d",
    "outputId": "d07da7a0-14b0-46e0-928c-16ec9f058f0f"
   },
   "outputs": [
    {
     "name": "stdout",
     "output_type": "stream",
     "text": [
      "The square of even number 100 is 10000\n",
      "The square of odd number 101 is 10201\n",
      "The square of even number 102 is 10404\n",
      "The square of odd number 103 is 10609\n",
      "The square of even number 104 is 10816\n",
      "The square of odd number 105 is 11025\n",
      "The square of even number 106 is 11236\n",
      "The square of odd number 107 is 11449\n",
      "The square of even number 108 is 11664\n",
      "The square of odd number 109 is 11881\n",
      "The square of even number 110 is 12100\n",
      "The square of odd number 111 is 12321\n",
      "The square of even number 112 is 12544\n",
      "The square of odd number 113 is 12769\n",
      "The square of even number 114 is 12996\n",
      "The square of odd number 115 is 13225\n",
      "The square of even number 116 is 13456\n",
      "The square of odd number 117 is 13689\n",
      "The square of even number 118 is 13924\n",
      "The square of odd number 119 is 14161\n",
      "The square of even number 120 is 14400\n",
      "The square of odd number 121 is 14641\n",
      "The square of even number 122 is 14884\n",
      "The square of odd number 123 is 15129\n",
      "The square of even number 124 is 15376\n",
      "The square of odd number 125 is 15625\n",
      "The square of even number 126 is 15876\n",
      "The square of odd number 127 is 16129\n",
      "The square of even number 128 is 16384\n",
      "The square of odd number 129 is 16641\n",
      "The square of even number 130 is 16900\n",
      "The square of odd number 131 is 17161\n",
      "The square of even number 132 is 17424\n",
      "The square of odd number 133 is 17689\n",
      "The square of even number 134 is 17956\n",
      "The square of odd number 135 is 18225\n",
      "The square of even number 136 is 18496\n",
      "The square of odd number 137 is 18769\n",
      "The square of even number 138 is 19044\n",
      "The square of odd number 139 is 19321\n",
      "The square of even number 140 is 19600\n",
      "The square of odd number 141 is 19881\n",
      "The square of even number 142 is 20164\n",
      "The square of odd number 143 is 20449\n",
      "The square of even number 144 is 20736\n",
      "The square of odd number 145 is 21025\n",
      "The square of even number 146 is 21316\n",
      "The square of odd number 147 is 21609\n",
      "The square of even number 148 is 21904\n",
      "The square of odd number 149 is 22201\n",
      "The square of even number 150 is 22500\n",
      "The square of odd number 151 is 22801\n",
      "The square of even number 152 is 23104\n",
      "The square of odd number 153 is 23409\n",
      "The square of even number 154 is 23716\n",
      "The square of odd number 155 is 24025\n",
      "The square of even number 156 is 24336\n",
      "The square of odd number 157 is 24649\n",
      "The square of even number 158 is 24964\n",
      "The square of odd number 159 is 25281\n",
      "The square of even number 160 is 25600\n",
      "The square of odd number 161 is 25921\n",
      "The square of even number 162 is 26244\n",
      "The square of odd number 163 is 26569\n",
      "The square of even number 164 is 26896\n",
      "The square of odd number 165 is 27225\n",
      "The square of even number 166 is 27556\n",
      "The square of odd number 167 is 27889\n",
      "The square of even number 168 is 28224\n",
      "The square of odd number 169 is 28561\n",
      "The square of even number 170 is 28900\n",
      "The square of odd number 171 is 29241\n",
      "The square of even number 172 is 29584\n",
      "The square of odd number 173 is 29929\n",
      "The square of even number 174 is 30276\n",
      "The square of odd number 175 is 30625\n",
      "The square of even number 176 is 30976\n",
      "The square of odd number 177 is 31329\n",
      "The square of even number 178 is 31684\n",
      "The square of odd number 179 is 32041\n",
      "The square of even number 180 is 32400\n",
      "The square of odd number 181 is 32761\n",
      "The square of even number 182 is 33124\n",
      "The square of odd number 183 is 33489\n",
      "The square of even number 184 is 33856\n",
      "The square of odd number 185 is 34225\n",
      "The square of even number 186 is 34596\n",
      "The square of odd number 187 is 34969\n",
      "The square of even number 188 is 35344\n",
      "The square of odd number 189 is 35721\n",
      "The square of even number 190 is 36100\n",
      "The square of odd number 191 is 36481\n",
      "The square of even number 192 is 36864\n",
      "The square of odd number 193 is 37249\n",
      "The square of even number 194 is 37636\n",
      "The square of odd number 195 is 38025\n",
      "The square of even number 196 is 38416\n",
      "The square of odd number 197 is 38809\n",
      "The square of even number 198 is 39204\n",
      "The square of odd number 199 is 39601\n",
      "The square of even number 200 is 40000\n"
     ]
    }
   ],
   "source": [
    "for num in range(100, 201):\n",
    "    if num % 2 == 0:\n",
    "        square = num ** 2\n",
    "        print(f\"The square of even number {num} is {square}\")\n",
    "    else:\n",
    "        square = num ** 2\n",
    "        print(f\"The square of odd number {num} is {square}\")"
   ]
  },
  {
   "cell_type": "markdown",
   "metadata": {
    "id": "RcddP0ycFExW"
   },
   "source": [
    "# Word counter"
   ]
  },
  {
   "cell_type": "code",
   "execution_count": 62,
   "metadata": {
    "executionInfo": {
     "elapsed": 2,
     "status": "ok",
     "timestamp": 1726511327369,
     "user": {
      "displayName": "Sanchit Dakle",
      "userId": "00374581020972840734"
     },
     "user_tz": -330
    },
    "id": "vVaV_BtKE1TS"
   },
   "outputs": [],
   "source": [
    "input_text = \"This is a sample text. This text will be used to demonstrate the word counter.\"\n",
    "words=input_text.split()\n"
   ]
  },
  {
   "cell_type": "code",
   "execution_count": 63,
   "metadata": {
    "colab": {
     "base_uri": "https://localhost:8080/"
    },
    "executionInfo": {
     "elapsed": 517,
     "status": "ok",
     "timestamp": 1726511416153,
     "user": {
      "displayName": "Sanchit Dakle",
      "userId": "00374581020972840734"
     },
     "user_tz": -330
    },
    "id": "g4H_h8HtFNHD",
    "outputId": "90355c65-8eca-4054-80d8-60cadf195386"
   },
   "outputs": [
    {
     "name": "stdout",
     "output_type": "stream",
     "text": [
      "This:2\n",
      "is:1\n",
      "a:1\n",
      "sample:1\n",
      "text.:1\n",
      "text:1\n",
      "will:1\n",
      "be:1\n",
      "used:1\n",
      "to:1\n",
      "demonstrate:1\n",
      "the:1\n",
      "word:1\n",
      "counter.:1\n"
     ]
    }
   ],
   "source": [
    "word_count={}\n",
    "for word in words:\n",
    "  if word in word_count:\n",
    "    word_count[word]+=1\n",
    "  else:\n",
    "    word_count[word]=1\n",
    "for word,count in word_count.items():\n",
    "  print(f\"{word}:{count}\")"
   ]
  },
  {
   "cell_type": "markdown",
   "metadata": {
    "id": "AHlkemSFE9qt"
   },
   "source": [
    "# palindrome sequence"
   ]
  },
  {
   "cell_type": "code",
   "execution_count": 57,
   "metadata": {
    "colab": {
     "base_uri": "https://localhost:8080/"
    },
    "executionInfo": {
     "elapsed": 615,
     "status": "ok",
     "timestamp": 1726510952379,
     "user": {
      "displayName": "Sanchit Dakle",
      "userId": "00374581020972840734"
     },
     "user_tz": -330
    },
    "id": "5FaZ4NvTB8GC",
    "outputId": "c56e4d71-8b55-47be-e960-1183e9b5d2b9"
   },
   "outputs": [
    {
     "name": "stdout",
     "output_type": "stream",
     "text": [
      "palindrome\n"
     ]
    }
   ],
   "source": [
    "# palindrome program without using any method\n",
    "def palindrome(s):\n",
    "  if s == s[::-1]:\n",
    "    print(\"palindrome\")\n",
    "  else:\n",
    "    print(\"not palindrome\")\n",
    "\n",
    "palindrome(\"racecar\")"
   ]
  }
 ],
 "metadata": {
  "colab": {
   "authorship_tag": "ABX9TyNR/rq1inRSXLbwy9QM9RtV",
   "provenance": []
  },
  "kernelspec": {
   "display_name": "Python 3 (ipykernel)",
   "language": "python",
   "name": "python3"
  },
  "language_info": {
   "codemirror_mode": {
    "name": "ipython",
    "version": 3
   },
   "file_extension": ".py",
   "mimetype": "text/x-python",
   "name": "python",
   "nbconvert_exporter": "python",
   "pygments_lexer": "ipython3",
   "version": "3.12.4"
  }
 },
 "nbformat": 4,
 "nbformat_minor": 4
}
