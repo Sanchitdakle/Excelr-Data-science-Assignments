{
 "cells": [
  {
   "cell_type": "code",
   "execution_count": 1,
   "id": "a56a69e3-8bc5-4a27-8efb-493f9495100c",
   "metadata": {},
   "outputs": [],
   "source": [
    "# import required library\n",
    "import numpy as np\n",
    "import pandas as pd\n",
    "from scipy.stats import chi2_contingency,chi2"
   ]
  },
  {
   "cell_type": "code",
   "execution_count": 2,
   "id": "aeca0638-c948-4fca-a529-e752310000e6",
   "metadata": {},
   "outputs": [],
   "source": [
    "Contingency_table = np.array([[50, 70], \n",
    "                               [80, 100], \n",
    "                               [60, 90], \n",
    "                               [30, 50], \n",
    "                               [20, 50]])"
   ]
  },
  {
   "cell_type": "code",
   "execution_count": 3,
   "id": "e7058d57-d1d4-4b34-b26e-76a6e85224cf",
   "metadata": {},
   "outputs": [
    {
     "data": {
      "text/plain": [
       "array([[ 50,  70],\n",
       "       [ 80, 100],\n",
       "       [ 60,  90],\n",
       "       [ 30,  50],\n",
       "       [ 20,  50]])"
      ]
     },
     "execution_count": 3,
     "metadata": {},
     "output_type": "execute_result"
    }
   ],
   "source": [
    "Contingency_table"
   ]
  },
  {
   "cell_type": "markdown",
   "id": "930c16a5-40f9-43b1-b2e3-537d3929fbd5",
   "metadata": {},
   "source": [
    "# Step 2: Perform the Chi-Square test"
   ]
  },
  {
   "cell_type": "code",
   "execution_count": 5,
   "id": "4bd96b68-3a00-4757-8f25-79e5cff9a9dc",
   "metadata": {},
   "outputs": [
    {
     "name": "stdout",
     "output_type": "stream",
     "text": [
      "Chi-Square Statistic: 5.638227513227513\n",
      "p-value: 0.22784371130697179\n",
      "Degrees of Freedom: 4\n",
      "Expected Frequencies:\n",
      "[[ 48.  72.]\n",
      " [ 72. 108.]\n",
      " [ 60.  90.]\n",
      " [ 32.  48.]\n",
      " [ 28.  42.]]\n"
     ]
    }
   ],
   "source": [
    "chi2_stat, p_value, dof, expected = chi2_contingency(Contingency_table) # Contingency_table was previously defined\n",
    "\n",
    "# Display the results\n",
    "print(f'Chi-Square Statistic: {chi2_stat}')\n",
    "print(f'p-value: {p_value}')\n",
    "print(f'Degrees of Freedom: {dof}')\n",
    "print(f'Expected Frequencies:\\n{expected}')\n"
   ]
  },
  {
   "cell_type": "markdown",
   "id": "2749427a-23c0-4f8e-b9e6-ae3dccd19670",
   "metadata": {},
   "source": [
    "# Step 3: Determine the Critical Value\n"
   ]
  },
  {
   "cell_type": "code",
   "execution_count": 7,
   "id": "2875fd31-25c4-4210-9f38-20771b466f0c",
   "metadata": {},
   "outputs": [
    {
     "name": "stdout",
     "output_type": "stream",
     "text": [
      "Critical Value at alpha = 0.05: 9.487729036781154\n"
     ]
    }
   ],
   "source": [
    "alpha = 0.05  \n",
    "critical_value = chi2.ppf(1 - alpha, dof)\n",
    "print(f'Critical Value at alpha = {alpha}: {critical_value}')"
   ]
  },
  {
   "cell_type": "markdown",
   "id": "c6f26abf-8ccd-48da-b765-85a902710f5c",
   "metadata": {},
   "source": [
    " # Step 4: Make a Decision"
   ]
  },
  {
   "cell_type": "code",
   "execution_count": 9,
   "id": "80d970c2-f9f3-4b39-8427-32680c8be9aa",
   "metadata": {},
   "outputs": [
    {
     "name": "stdout",
     "output_type": "stream",
     "text": [
      "Fail to reject the null hypothesis: There is no significant association between device type and customer satisfaction.\n"
     ]
    }
   ],
   "source": [
    "if chi2_stat > critical_value:\n",
    "    print(\"Reject the null hypothesis: There is a significant association between device type and customer satisfaction.\")\n",
    "else:\n",
    "    print(\"Fail to reject the null hypothesis: There is no significant association between device type and customer satisfaction.\")"
   ]
  },
  {
   "cell_type": "code",
   "execution_count": null,
   "id": "55c65f7d-5fa2-4653-9fd5-951fcfbd0de1",
   "metadata": {},
   "outputs": [],
   "source": []
  }
 ],
 "metadata": {
  "kernelspec": {
   "display_name": "Python 3 (ipykernel)",
   "language": "python",
   "name": "python3"
  },
  "language_info": {
   "codemirror_mode": {
    "name": "ipython",
    "version": 3
   },
   "file_extension": ".py",
   "mimetype": "text/x-python",
   "name": "python",
   "nbconvert_exporter": "python",
   "pygments_lexer": "ipython3",
   "version": "3.12.4"
  }
 },
 "nbformat": 4,
 "nbformat_minor": 5
}
