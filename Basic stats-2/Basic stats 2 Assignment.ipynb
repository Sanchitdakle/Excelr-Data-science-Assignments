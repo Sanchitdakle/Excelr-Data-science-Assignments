{
 "cells": [
  {
   "cell_type": "code",
   "execution_count": 12,
   "id": "ed1a7f89-d5bc-4125-b9f0-0b6e4a681367",
   "metadata": {},
   "outputs": [],
   "source": [
    "import numpy as np\n",
    "from scipy import stats\n"
   ]
  },
  {
   "cell_type": "code",
   "execution_count": 14,
   "id": "7f8ab797-ef46-4848-9058-da7fee6c5a7a",
   "metadata": {},
   "outputs": [],
   "source": [
    "data=[1.13, 1.55, 1.43, 0.92, 1.25, 1.36, 1.32, 0.85, 1.07, 1.48, 1.20, 1.33, 1.18, 1.22, 1.29]"
   ]
  },
  {
   "cell_type": "markdown",
   "id": "e482a559-8c3d-4526-8f45-29376686577a",
   "metadata": {},
   "source": [
    "# a. Build 99% Confidence Interval Using Sample Standard Deviation"
   ]
  },
  {
   "cell_type": "code",
   "execution_count": 17,
   "id": "732e9439-1051-4998-aa48-e3ed95d1a840",
   "metadata": {},
   "outputs": [
    {
     "name": "stdout",
     "output_type": "stream",
     "text": [
      "length of data:15\n",
      "mean of data:1.2386666666666666\n",
      "standard deviation of data:0.18661427836285438\n"
     ]
    }
   ],
   "source": [
    "n = len(data)\n",
    "mean=np.mean(data)\n",
    "std=np.std(data)\n",
    "print(f\"length of data:{n}\")\n",
    "print(f\"mean of data:{mean}\")\n",
    "print(f\"standard deviation of data:{std}\")"
   ]
  },
  {
   "cell_type": "markdown",
   "id": "90e17f85-2508-44e4-8d9e-cb92c4cb6790",
   "metadata": {},
   "source": [
    "# 99% confidence interval using t- distribution"
   ]
  },
  {
   "cell_type": "code",
   "execution_count": 24,
   "id": "9c0bfa42-a6d4-4dac-8708-cb0c26ca33f2",
   "metadata": {},
   "outputs": [],
   "source": [
    "confidence_level=0.99\n",
    "alpha=1-confidence_level\n",
    "df=n-1"
   ]
  },
  {
   "cell_type": "code",
   "execution_count": 26,
   "id": "d75406ed-ba9d-4884-b4dc-1f493ec75f67",
   "metadata": {},
   "outputs": [
    {
     "data": {
      "text/plain": [
       "2.976842734370834"
      ]
     },
     "execution_count": 26,
     "metadata": {},
     "output_type": "execute_result"
    }
   ],
   "source": [
    "# t-critial value\n",
    "t_critical = stats.t.ppf(1-alpha/2,df)\n",
    "t_critical"
   ]
  },
  {
   "cell_type": "code",
   "execution_count": 28,
   "id": "71b91dd4-1a89-4bbf-bad4-bcb521caf71f",
   "metadata": {},
   "outputs": [
    {
     "data": {
      "text/plain": [
       "0.14343499804054372"
      ]
     },
     "execution_count": 28,
     "metadata": {},
     "output_type": "execute_result"
    }
   ],
   "source": [
    "# margin of error using sample standard deviation\n",
    "ME_sample = t_critical * (std / np.sqrt(n))\n",
    "ME_sample"
   ]
  },
  {
   "cell_type": "code",
   "execution_count": 30,
   "id": "86a1abfe-cd2a-430c-9a08-87f262128f7e",
   "metadata": {},
   "outputs": [
    {
     "data": {
      "text/plain": [
       "(1.095231668626123, 1.3821016647072102)"
      ]
     },
     "execution_count": 30,
     "metadata": {},
     "output_type": "execute_result"
    }
   ],
   "source": [
    "# confidene interval using sample standard deviation\n",
    "CI_sample = (mean - ME_sample, mean + ME_sample)\n",
    "CI_sample"
   ]
  },
  {
   "cell_type": "code",
   "execution_count": 32,
   "id": "b83bba1d-6f74-4419-af3c-442c66cf22fb",
   "metadata": {},
   "outputs": [
    {
     "name": "stdout",
     "output_type": "stream",
     "text": [
      "99% Confidence Interval using sample standard deviation: (1.095231668626123, 1.3821016647072102)\n"
     ]
    }
   ],
   "source": [
    "print(f\"99% Confidence Interval using sample standard deviation: {CI_sample}\")"
   ]
  },
  {
   "cell_type": "markdown",
   "id": "c366c583-d1fe-4aaa-9af2-5dabf74ef8d1",
   "metadata": {},
   "source": [
    "# b. Build 99% Confidence Interval Using Known Population Standard Deviation"
   ]
  },
  {
   "cell_type": "code",
   "execution_count": 35,
   "id": "a3c7fa1d-2265-460c-b05b-622063ec9e3c",
   "metadata": {},
   "outputs": [
    {
     "data": {
      "text/plain": [
       "2.5758293035489004"
      ]
     },
     "execution_count": 35,
     "metadata": {},
     "output_type": "execute_result"
    }
   ],
   "source": [
    "population_std=0.2\n",
    "# z-critical value for 99% confidence interval\n",
    "z_critical=stats.norm.ppf(1-alpha/2)\n",
    "z_critical"
   ]
  },
  {
   "cell_type": "code",
   "execution_count": 37,
   "id": "d9b3c8ec-1f9a-45d9-9e1f-41995b76bb6b",
   "metadata": {},
   "outputs": [
    {
     "data": {
      "text/plain": [
       "(1.1145539391646546, 1.3627793941686785)"
      ]
     },
     "execution_count": 37,
     "metadata": {},
     "output_type": "execute_result"
    }
   ],
   "source": [
    "# confidence interval using population standard deviation\n",
    "CI_population=(mean-z_critical*std/np.sqrt(n),mean+z_critical*std/np.sqrt(n))\n",
    "CI_population"
   ]
  },
  {
   "cell_type": "code",
   "execution_count": 39,
   "id": "edc9c86c-8194-4b8e-a1d2-ff1ba7b87f3a",
   "metadata": {},
   "outputs": [
    {
     "name": "stdout",
     "output_type": "stream",
     "text": [
      "99% Confidence Interval using known population standard deviation: (1.1145539391646546, 1.3627793941686785)\n"
     ]
    }
   ],
   "source": [
    "print(f\"99% Confidence Interval using known population standard deviation: {CI_population}\")"
   ]
  },
  {
   "cell_type": "code",
   "execution_count": null,
   "id": "8ebfc6a4-33a4-482f-97de-52cd2113fbc1",
   "metadata": {},
   "outputs": [],
   "source": []
  }
 ],
 "metadata": {
  "kernelspec": {
   "display_name": "Python 3 (ipykernel)",
   "language": "python",
   "name": "python3"
  },
  "language_info": {
   "codemirror_mode": {
    "name": "ipython",
    "version": 3
   },
   "file_extension": ".py",
   "mimetype": "text/x-python",
   "name": "python",
   "nbconvert_exporter": "python",
   "pygments_lexer": "ipython3",
   "version": "3.12.4"
  }
 },
 "nbformat": 4,
 "nbformat_minor": 5
}
